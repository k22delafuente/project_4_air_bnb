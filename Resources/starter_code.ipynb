{
 "cells": [
  {
   "cell_type": "markdown",
   "id": "d2122843",
   "metadata": {},
   "source": [
    "# Project 4: Airbnb Data - Starter Notebook"
   ]
  },
  {
   "cell_type": "markdown",
   "id": "ffd71f57",
   "metadata": {},
   "source": [
    "This notebook connects to a local PostgreSQL database and loads the `listings` table."
   ]
  },
  {
   "cell_type": "code",
   "execution_count": null,
   "id": "99f756b1",
   "metadata": {},
   "outputs": [],
   "source": [
    "import pandas as pd\n",
    "import psycopg2\n",
    "from sqlalchemy import create_engine\n",
    "\n",
    "# 🔒 Update these with your own local database credentials\n",
    "db_user = \"postgres\"\n",
    "db_password = \"your_password\"\n",
    "db_host = \"localhost\"\n",
    "db_port = \"5432\"\n",
    "db_name = \"project_4\"\n",
    "\n",
    "# Create connection engine\n",
    "engine = create_engine(f\"postgresql://{db_user}:{db_password}@{db_host}:{db_port}/{db_name}\")\n",
    "\n",
    "# Test read from listings table\n",
    "df = pd.read_sql(\"SELECT * FROM listings LIMIT 10\", engine)\n",
    "df.head()"
   ]
  },
  {
   "cell_type": "markdown",
   "id": "9fbeffff",
   "metadata": {},
   "source": [
    "Once confirmed, you can continue to clean and explore your data."
   ]
  },
  {
   "cell_type": "code",
   "execution_count": null,
   "id": "b0cba61f",
   "metadata": {},
   "outputs": [],
   "source": [
    "# Example: Check for nulls and datatypes\n",
    "df.info()\n",
    "df.isnull().sum()"
   ]
  }
 ],
 "metadata": {},
 "nbformat": 4,
 "nbformat_minor": 5
}
