{
 "cells": [
  {
   "cell_type": "code",
   "execution_count": 1,
   "id": "2c579474",
   "metadata": {},
   "outputs": [],
   "source": [
    "# Required Libraries\n",
    "import pandas as pd\n",
    "import numpy as np\n",
    "from sklearn.model_selection import train_test_split\n",
    "from sklearn.ensemble import RandomForestClassifier\n",
    "from sklearn.metrics import accuracy_score\n",
    "from sklearn.preprocessing import OneHotEncoder\n",
    "from sklearn.compose import ColumnTransformer\n",
    "from sklearn.pipeline import Pipeline\n",
    "from sklearn.impute import SimpleImputer\n",
    "from sklearn.cluster import KMeans\n",
    "from sklearn.preprocessing import StandardScaler"
   ]
  },
  {
   "cell_type": "code",
   "execution_count": 5,
   "id": "b8c741f5",
   "metadata": {},
   "outputs": [],
   "source": [
    "# Step 1: Load Data (Las Vegas)\n",
    "df = pd.read_csv(\"Resources/lasvegaslistings.csv\")"
   ]
  },
  {
   "cell_type": "code",
   "execution_count": 7,
   "id": "cba0c8e2",
   "metadata": {},
   "outputs": [],
   "source": [
    "# Step 2: Data Cleaning (simplified example)\n",
    "selected_columns = [\n",
    "    \"price\", \"latitude\", \"longitude\", \"room_type\", \"minimum_nights\",\n",
    "    \"number_of_reviews\", \"reviews_per_month\",\n",
    "    \"calculated_host_listings_count\", \"availability_365\", \"neighbourhood\"\n",
    "]\n",
    "df_model = df[selected_columns].dropna()\n",
    "df_model = df_model[df_model[\"price\"] > 0]"
   ]
  },
  {
   "cell_type": "code",
   "execution_count": 8,
   "id": "97960f40",
   "metadata": {},
   "outputs": [],
   "source": [
    "# Convert price from string to float if needed\n",
    "price_cap = df_model[\"price\"].quantile(0.95)\n",
    "df_model = df_model[df_model[\"price\"] <= price_cap]"
   ]
  },
  {
   "cell_type": "code",
   "execution_count": 9,
   "id": "dbae63ee",
   "metadata": {},
   "outputs": [],
   "source": [
    "# Step 3: Feature Engineering\n",
    "kmeans = KMeans(n_clusters=5, random_state=42, n_init=10)\n",
    "df_model[\"location_cluster\"] = kmeans.fit_predict(df_model[[\"latitude\", \"longitude\"]])\n"
   ]
  },
  {
   "cell_type": "code",
   "execution_count": 10,
   "id": "2036c5d8",
   "metadata": {},
   "outputs": [],
   "source": [
    "# Step 4: Train/Test Split\n",
    "df_model[\"log_reviews\"] = np.log1p(df_model[\"number_of_reviews\"])\n",
    "df_model[\"log_reviews_per_month\"] = np.log1p(df_model[\"reviews_per_month\"])"
   ]
  },
  {
   "cell_type": "code",
   "execution_count": 11,
   "id": "b093a805",
   "metadata": {},
   "outputs": [],
   "source": [
    "# Step 5: Model 1 - Random Forest Regressor (default parameters)\n",
    "df_model[\"minnights_x_reviews\"] = df_model[\"minimum_nights\"] * df_model[\"reviews_per_month\"]\n",
    "df_model[\"lat_squared\"] = df_model[\"latitude\"] ** 2\n",
    "df_model[\"long_squared\"] = df_model[\"longitude\"] ** 2"
   ]
  },
  {
   "cell_type": "code",
   "execution_count": 12,
   "id": "5469b5d7",
   "metadata": {},
   "outputs": [],
   "source": [
    "# Step 6: Model 2 - Linear Regression (baseline model)\n",
    "df_model[\"price_class\"] = pd.qcut(df_model[\"price\"], q=2, labels=[0, 1])\n"
   ]
  },
  {
   "cell_type": "code",
   "execution_count": 14,
   "id": "04e514af",
   "metadata": {},
   "outputs": [],
   "source": [
    "# Step 7: Evaluation\n",
    "X = df_model[[\n",
    "    \"latitude\", \"longitude\", \"lat_squared\", \"long_squared\", \"log_reviews\", \"log_reviews_per_month\",\n",
    "    \"minimum_nights\", \"minnights_x_reviews\", \"calculated_host_listings_count\", \"availability_365\",\n",
    "    \"room_type\", \"location_cluster\", \"neighbourhood\"\n",
    "]]\n",
    "y = df_model[\"price_class\"].astype(int)"
   ]
  },
  {
   "cell_type": "code",
   "execution_count": 15,
   "id": "d974117b",
   "metadata": {},
   "outputs": [],
   "source": [
    "numeric_features = [\n",
    "    \"latitude\", \"longitude\", \"lat_squared\", \"long_squared\",\n",
    "    \"log_reviews\", \"log_reviews_per_month\", \"minimum_nights\",\n",
    "    \"minnights_x_reviews\", \"calculated_host_listings_count\", \"availability_365\"\n",
    "]\n",
    "categorical_features = [\"room_type\", \"location_cluster\", \"neighbourhood\"]\n",
    "\n",
    "preprocessor = ColumnTransformer(\n",
    "    transformers=[\n",
    "        (\"num\", Pipeline([\n",
    "            (\"imputer\", SimpleImputer(strategy=\"median\")),\n",
    "            (\"scaler\", StandardScaler())\n",
    "        ]), numeric_features),\n",
    "        (\"cat\", OneHotEncoder(drop=\"first\", handle_unknown='ignore'), categorical_features),\n",
    "    ]\n",
    ")"
   ]
  },
  {
   "cell_type": "code",
   "execution_count": 16,
   "id": "f0d2f1f3",
   "metadata": {},
   "outputs": [],
   "source": [
    "# Step 8: Visualizations\n",
    "results = []\n",
    "param_grid = [\n",
    "    {\"n_estimators\": 300, \"max_depth\": None},\n",
    "    {\"n_estimators\": 400, \"max_depth\": 30},\n",
    "    {\"n_estimators\": 500, \"max_depth\": 40},\n",
    "    {\"n_estimators\": 600, \"max_depth\": 50},\n",
    "]\n",
    "\n",
    "for params in param_grid:\n",
    "    model = Pipeline(steps=[\n",
    "        (\"preprocessor\", preprocessor),\n",
    "        (\"classifier\", RandomForestClassifier(\n",
    "            random_state=42,\n",
    "            n_estimators=params[\"n_estimators\"],\n",
    "            max_depth=params[\"max_depth\"]\n",
    "        ))\n",
    "    ])\n",
    "    X_train, X_test, y_train, y_test = train_test_split(X, y, test_size=0.2, random_state=42)\n",
    "    model.fit(X_train, y_train)\n",
    "    y_pred = model.predict(X_test)\n",
    "    acc = accuracy_score(y_test, y_pred)\n",
    "    results.append({\"n_estimators\": params[\"n_estimators\"], \"max_depth\": params[\"max_depth\"], \"accuracy\": acc})"
   ]
  },
  {
   "cell_type": "code",
   "execution_count": 23,
   "id": "f7226d70",
   "metadata": {},
   "outputs": [
    {
     "name": "stdout",
     "output_type": "stream",
     "text": [
      "   n_estimators  max_depth  accuracy\n",
      "0           300        NaN  0.809935\n",
      "2           500       40.0  0.809935\n",
      "3           600       50.0  0.808855\n",
      "1           400       30.0  0.808315\n"
     ]
    }
   ],
   "source": [
    "print(results_df.sort_values(by=\"accuracy\", ascending=False))\n"
   ]
  },
  {
   "cell_type": "code",
   "execution_count": 27,
   "id": "06c17ea6",
   "metadata": {},
   "outputs": [
    {
     "data": {
      "image/png": "[encoded data removed]",
      "text/plain": [
       "<Figure size 1000x600 with 1 Axes>"
      ]
     },
     "metadata": {},
     "output_type": "display_data"
    },
    {
     "name": "stdout",
     "output_type": "stream",
     "text": [
      "\n",
      "Best Model Parameters:\n",
      "n_estimators    300.000000\n",
      "max_depth              NaN\n",
      "accuracy          0.809935\n",
      "Name: 0, dtype: float64\n"
     ]
    }
   ],
   "source": [
    "# Save performance results and visualize accuracy\n",
    "results_df = pd.DataFrame(results)\n",
    "results_df.to_csv(\"classification_optimization_results.csv\", index=False)\n",
    "\n",
    "# 📊 Accuracy Plot\n",
    "import matplotlib.pyplot as plt\n",
    "\n",
    "results_df_sorted = results_df.sort_values(by=\"accuracy\", ascending=False)\n",
    "\n",
    "plt.figure(figsize=(10, 6))\n",
    "plt.bar(\n",
    "    [f\"{row['n_estimators']} est\\n{row['max_depth']} depth\" for _, row in results_df_sorted.iterrows()],\n",
    "    results_df_sorted[\"accuracy\"]\n",
    ")\n",
    "\n",
    "plt.title(\"Random Forest Accuracy by Parameter Set\")\n",
    "plt.xlabel(\"Model Configuration (n_estimators / max_depth)\")\n",
    "plt.ylabel(\"Accuracy\")\n",
    "plt.xticks(rotation=45, ha=\"right\")\n",
    "plt.ylim(0.5, 1.0)\n",
    "plt.tight_layout()\n",
    "plt.grid(axis='y', linestyle='--', alpha=0.7)\n",
    "plt.show()\n",
    "\n",
    "# 🏆 Print Best Model Parameters\n",
    "best_result = results_df_sorted.iloc[0]\n",
    "print(\"\\nBest Model Parameters:\")\n",
    "print(best_result)\n",
    "\n"
   ]
  },
  {
   "cell_type": "code",
   "execution_count": 28,
   "id": "c689a836",
   "metadata": {},
   "outputs": [],
   "source": [
    "# Save predictions to CSV\n",
    "best_model = Pipeline(steps=[\n",
    "    (\"preprocessor\", preprocessor),\n",
    "    (\"classifier\", RandomForestClassifier(\n",
    "        random_state=42,\n",
    "        n_estimators=int(best_result[\"n_estimators\"]),\n",
    "        max_depth=None if pd.isna(best_result[\"max_depth\"]) else int(best_result[\"max_depth\"])\n",
    "    ))\n",
    "])\n",
    "best_model.fit(X_train, y_train)\n",
    "y_pred_rf = best_model.predict(X_test)\n",
    "\n",
    "# Save predictions\n",
    "predictions = pd.DataFrame({\n",
    "    \"Actual\": y_test,\n",
    "    \"RF_Predicted\": y_pred_rf\n",
    "})\n",
    "predictions.to_csv(\"las_vegas_price_model_comparison.csv\", index=False)"
   ]
  },
  {
   "cell_type": "code",
   "execution_count": null,
   "id": "6791281e",
   "metadata": {},
   "outputs": [],
   "source": []
  }
 ],
 "metadata": {
  "kernelspec": {
   "display_name": "dev",
   "language": "python",
   "name": "python3"
  },
  "language_info": {
   "codemirror_mode": {
    "name": "ipython",
    "version": 3
   },
   "file_extension": ".py",
   "mimetype": "text/x-python",
   "name": "python",
   "nbconvert_exporter": "python",
   "pygments_lexer": "ipython3",
   "version": "3.10.16"
  }
 },
 "nbformat": 4,
 "nbformat_minor": 5
}
